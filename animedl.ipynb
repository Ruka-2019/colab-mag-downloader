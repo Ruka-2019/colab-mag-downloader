{
 "cells": [
  {
   "cell_type": "code",
   "execution_count": null,
   "outputs": [],
   "source": [
    "# @title Init environment { display-mode: \"form\" }\n",
    "!python -m pip install --upgrade pip setuptools wheel && python -m pip install lbry-libtorrent wget torf && apt install python3-libtor\n",
    "from google.colab import drive\n",
    "drive.mount('/content/drive')"
   ],
   "metadata": {
    "collapsed": false
   }
  },
  {
   "cell_type": "code",
   "execution_count": null,
   "outputs": [],
   "source": [
    "# @title Set download path { display-mode: \"form\" }\n",
    "file_path = '/proj/anime-dl' #@param {type:\"string\"}\n",
    "root_path = '/content/drive/MyDrive'+file_path\n",
    "magnets = []"
   ],
   "metadata": {
    "collapsed": false
   }
  },
  {
   "cell_type": "code",
   "execution_count": null,
   "outputs": [],
   "source": [
    "# @title Clear Download List { display-mode: \"form\" }\n",
    "magnets = []\n",
    "print(magnets)"
   ],
   "metadata": {
    "collapsed": false
   }
  },
  {
   "cell_type": "code",
   "execution_count": null,
   "outputs": [],
   "source": [
    "# @title Append Magnet Link { display-mode: \"form\" }\n",
    "magnet = '' #@param {type:\"string\"}\n",
    "if magnet not in magnets:\n",
    "    magnets.append(magnet)\n",
    "else:\n",
    "    print(\"Already Exist!\")\n",
    "print(f\"Current magnet list count: {len(magnets)}\")\n",
    "for mag in magnets:\n",
    "    print(f\"{mag}\")"
   ],
   "metadata": {
    "collapsed": false,
    "pycharm": {
     "is_executing": true
    }
   }
  },
  {
   "cell_type": "code",
   "execution_count": null,
   "outputs": [],
   "source": [
    "# @title Run Download { display-mode: \"form\" }\n",
    "import time\n",
    "from IPython.display import display\n",
    "import ipywidgets as widgets\n",
    "import libtorrent as lt\n",
    "\n",
    "ses = lt.session()\n",
    "ses.listen_on(6881, 6891)\n",
    "downloads = []\n",
    "params = {\"save_path\": root_path}\n",
    "\n",
    "for mag_link in magnets:\n",
    "    downloads.append(\n",
    "        lt.add_magnet_uri(ses, mag_link, params)\n",
    "    )\n",
    "\n",
    "state_str = [\n",
    "    \"queued\",\n",
    "    \"checking\",\n",
    "    \"downloading metadata\",\n",
    "    \"downloading\",\n",
    "    \"finished\",\n",
    "    \"seeding\",\n",
    "    \"allocating\",\n",
    "    \"checking fastresume\",\n",
    "]\n",
    "\n",
    "layout = widgets.Layout(width=\"auto\")\n",
    "style = {\"description_width\": \"initial\"}\n",
    "download_bars = [\n",
    "    widgets.FloatSlider(\n",
    "        step=0.01, disabled=True, layout=layout, style=style\n",
    "    )\n",
    "    for _ in downloads\n",
    "]\n",
    "display(*download_bars)\n",
    "\n",
    "while downloads:\n",
    "    next_shift = 0\n",
    "    for index, download in enumerate(downloads[:]):\n",
    "        bar = download_bars[index + next_shift]\n",
    "        if not download.is_seed():\n",
    "            s = download.status()\n",
    "\n",
    "            bar.description = \" \".join(\n",
    "                [\n",
    "                    download.name(),\n",
    "                    str(s.download_rate / 1000),\n",
    "                    \"kB/s\",\n",
    "                    state_str[s.state],\n",
    "                ]\n",
    "            )\n",
    "            bar.value = s.progress * 100\n",
    "        else:\n",
    "            next_shift -= 1\n",
    "            ses.remove_torrent(download)\n",
    "            downloads.remove(download)\n",
    "            bar.close() # Seems to be not working in Colab (see https://github.com/googlecolab/colabtools/issues/726#issue-486731758)\n",
    "            download_bars.remove(bar)\n",
    "            print(download.name(), \"complete\")\n",
    "    time.sleep(1)\n",
    "magnets = []"
   ],
   "metadata": {
    "collapsed": false
   }
  }
 ],
 "metadata": {
  "kernelspec": {
   "display_name": "Python 3",
   "language": "python",
   "name": "python3"
  },
  "language_info": {
   "codemirror_mode": {
    "name": "ipython",
    "version": 2
   },
   "file_extension": ".py",
   "mimetype": "text/x-python",
   "name": "python",
   "nbconvert_exporter": "python",
   "pygments_lexer": "ipython2",
   "version": "2.7.6"
  }
 },
 "nbformat": 4,
 "nbformat_minor": 0
}
